{
 "cells": [
  {
   "cell_type": "code",
   "execution_count": 14,
   "id": "879501d3",
   "metadata": {
    "scrolled": false
   },
   "outputs": [
    {
     "name": "stdout",
     "output_type": "stream",
     "text": [
      "python\n"
     ]
    },
    {
     "data": {
      "text/plain": [
       "'noht'"
      ]
     },
     "execution_count": 14,
     "metadata": {},
     "output_type": "execute_result"
    }
   ],
   "source": [
    "z=input()\n",
    "z=z.replace('py','')\n",
    "z\n",
    "q=''\n",
    "for j in z:\n",
    "    q=j+q\n",
    "q"
   ]
  },
  {
   "cell_type": "code",
   "execution_count": 15,
   "id": "ca07511e",
   "metadata": {},
   "outputs": [
    {
     "name": "stdout",
     "output_type": "stream",
     "text": [
      "10\n",
      "10\n",
      "0\n",
      "100\n",
      "20\n",
      "1\n"
     ]
    }
   ],
   "source": [
    "z=int(input())\n",
    "q=int(input())\n",
    "print(z-q)\n",
    "print(z*q)\n",
    "print(z+q)\n",
    "print(z//q)"
   ]
  },
  {
   "cell_type": "code",
   "execution_count": 16,
   "id": "bb33a8b7",
   "metadata": {},
   "outputs": [
    {
     "name": "stdout",
     "output_type": "stream",
     "text": [
      "i love python\n"
     ]
    },
    {
     "data": {
      "text/plain": [
       "'i love pythons'"
      ]
     },
     "execution_count": 16,
     "metadata": {},
     "output_type": "execute_result"
    }
   ],
   "source": [
    "str=input()\n",
    "str.replace('python','pythons')"
   ]
  },
  {
   "cell_type": "code",
   "execution_count": 17,
   "id": "285756e0",
   "metadata": {},
   "outputs": [
    {
     "name": "stdout",
     "output_type": "stream",
     "text": [
      "Enter your marks60\n",
      "D\n"
     ]
    }
   ],
   "source": [
    "marks=int(input('Enter your marks'))\n",
    "if(marks>100):\n",
    "    print('Not a valid one')\n",
    "elif(marks >=90):\n",
    "    print('A')\n",
    "elif(marks>=80 and marks<90):\n",
    "    print('B')\n",
    "elif(marks>=70 and marks<80):\n",
    "    print('C')\n",
    "elif(marks>=60 and marks<70):\n",
    "    print('D')\n",
    "elif(marks<60):\n",
    "    print('F')"
   ]
  },
  {
   "cell_type": "code",
   "execution_count": null,
   "id": "e43e30d1",
   "metadata": {},
   "outputs": [],
   "source": []
  },
  {
   "cell_type": "code",
   "execution_count": null,
   "id": "d6d29329",
   "metadata": {},
   "outputs": [],
   "source": [
    "\n"
   ]
  }
 ],
 "metadata": {
  "kernelspec": {
   "display_name": "Python 3 (ipykernel)",
   "language": "python",
   "name": "python3"
  },
  "language_info": {
   "codemirror_mode": {
    "name": "ipython",
    "version": 3
   },
   "file_extension": ".py",
   "mimetype": "text/x-python",
   "name": "python",
   "nbconvert_exporter": "python",
   "pygments_lexer": "ipython3",
   "version": "3.9.12"
  }
 },
 "nbformat": 4,
 "nbformat_minor": 5
}
