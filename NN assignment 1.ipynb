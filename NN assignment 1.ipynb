{
 "cells": [
  {
   "cell_type": "code",
   "execution_count": 3,
   "id": "879501d3",
   "metadata": {
    "scrolled": false
   },
   "outputs": [
    {
     "name": "stdout",
     "output_type": "stream",
     "text": [
      "python\n"
     ]
    },
    {
     "data": {
      "text/plain": [
       "'nnoht'"
      ]
     },
     "execution_count": 3,
     "metadata": {},
     "output_type": "execute_result"
    }
   ],
   "source": [
    "Z=input()\n",
    "Z=Z.replace('py','')\n",
    "Z\n",
    "a=''\n",
    "for j in Z:\n",
    "    a=j+r\n",
    "a  "
   ]
  },
  {
   "cell_type": "code",
   "execution_count": 8,
   "id": "ca07511e",
   "metadata": {},
   "outputs": [
    {
     "name": "stdout",
     "output_type": "stream",
     "text": [
      "30\n",
      "20\n",
      "10 600 50 1\n"
     ]
    }
   ],
   "source": [
    "z=int(input())\n",
    "q=int(input())\n",
    "print(z-q,z*q,z+q,z//q)"
   ]
  },
  {
   "cell_type": "code",
   "execution_count": 11,
   "id": "bb33a8b7",
   "metadata": {},
   "outputs": [
    {
     "name": "stdout",
     "output_type": "stream",
     "text": [
      "i love playing with python\n"
     ]
    },
    {
     "data": {
      "text/plain": [
       "'i love playing with pythons'"
      ]
     },
     "execution_count": 11,
     "metadata": {},
     "output_type": "execute_result"
    }
   ],
   "source": [
    "str=input()\n",
    "str.replace('python','pythons')"
   ]
  },
  {
   "cell_type": "code",
   "execution_count": 12,
   "id": "285756e0",
   "metadata": {},
   "outputs": [
    {
     "name": "stdout",
     "output_type": "stream",
     "text": [
      "Enter your score70\n",
      "C\n"
     ]
    }
   ],
   "source": [
    "marks=int(input('Enter your marks'))\n",
    "if(score>100):\n",
    "    print('Not a valid one')\n",
    "elif(score >=90):\n",
    "    print('A')\n",
    "elif(score>=80):\n",
    "    print('B')\n",
    "elif(score>=70):\n",
    "    print('C')\n",
    "elif(score>=60):\n",
    "    print('D')\n",
    "elif(score<60):\n",
    "    print('F')"
   ]
  },
  {
   "cell_type": "code",
   "execution_count": null,
   "id": "e43e30d1",
   "metadata": {},
   "outputs": [],
   "source": []
  }
 ],
 "metadata": {
  "kernelspec": {
   "display_name": "Python 3 (ipykernel)",
   "language": "python",
   "name": "python3"
  },
  "language_info": {
   "codemirror_mode": {
    "name": "ipython",
    "version": 3
   },
   "file_extension": ".py",
   "mimetype": "text/x-python",
   "name": "python",
   "nbconvert_exporter": "python",
   "pygments_lexer": "ipython3",
   "version": "3.9.12"
  }
 },
 "nbformat": 4,
 "nbformat_minor": 5
}
